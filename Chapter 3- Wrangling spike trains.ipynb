{
 "cells": [
  {
   "cell_type": "markdown",
   "metadata": {},
   "source": [
    "# Wrangling spike trains!"
   ]
  },
  {
   "cell_type": "code",
   "execution_count": 21,
   "metadata": {},
   "outputs": [
    {
     "name": "stdout",
     "output_type": "stream",
     "text": [
      "4\n",
      "[9, 11, 13, 17]\n"
     ]
    }
   ],
   "source": [
    "# here we go\n",
    "\n",
    "range(21), [0,0,0,0,0,0,0,0,0,1,0,1,0,1,0,0,0,1,0,0,0]\n",
    "\n",
    "spikeTrain = [0,0,0,0,0,0,0,0,0,1,0,1,0,1,0,0,0,1,0,0,0]\n",
    "\n",
    "lightOnsetTime = 5\n",
    "spikeValue = 1\n",
    "latencyToFirstSpike = spikeTrain[lightOnsetTime:].index(spikeValue)\n",
    "print(latencyToFirstSpike)\n",
    "\n",
    "#i,x in enumerate(spikeTrain) means:\n",
    "#we cycle through each element x in spikeTrain, and i refers to its location or index\n",
    "\n",
    "spikeTimes = [i for i,x in enumerate(spikeTrain) if x==1]\n",
    "print(spikeTimes)"
   ]
  },
  {
   "cell_type": "code",
   "execution_count": 26,
   "metadata": {},
   "outputs": [
    {
     "data": {
      "image/png": "[encoded data removed]",
      "text/plain": [
       "<Figure size 432x288 with 1 Axes>"
      ]
     },
     "metadata": {
      "needs_background": "light"
     },
     "output_type": "display_data"
    }
   ],
   "source": [
    "# plot single trial stuff\n",
    "\n",
    "import matplotlib.pyplot as plt\n",
    "\n",
    "fig = plt.figure()\n",
    "ax = plt.subplot(111)\n",
    "plt.vlines(spikeTimes,0,1)\n",
    "plt.axvspan(5,14,alpha=0.1,color='g')\n",
    "plt.xlim([0,20])\n",
    "plt.title('this neuron spikes in response to a single light stimulus')\n",
    "plt.xlabel('Time in milliseconds')\n",
    "plt.show(block=False)"
   ]
  },
  {
   "cell_type": "code",
   "execution_count": 42,
   "metadata": {},
   "outputs": [
    {
     "data": {
      "image/png": "[encoded data removed]",
      "text/plain": [
       "<Figure size 432x288 with 1 Axes>"
      ]
     },
     "metadata": {
      "needs_background": "light"
     },
     "output_type": "display_data"
    }
   ],
   "source": [
    "# multiple trials!\n",
    "\n",
    "tenSpikeTrains=[[0,0,0,0,0,0,0,0,1,0,1,0,1,0,0,0,1,0,0,0,0],\n",
    "                [0,0,0,0,0,0,0,0,1,1,0,0,0,1,0,0,0,1,0,0,0],\n",
    "                [0,1,0,0,0,0,0,0,0,0,1,0,0,1,0,0,0,0,0,1,0],\n",
    "                [0,0,0,0,0,0,0,0,1,1,0,1,0,0,0,0,0,0,1,0,0],\n",
    "                [0,0,0,0,0,0,0,0,0,1,0,0,1,0,0,0,0,0,0,0,0],\n",
    "                [0,0,0,0,0,0,0,0,0,0,1,1,0,0,0,1,0,0,0,1,0],\n",
    "                [0,0,0,0,0,0,0,0,1,1,1,0,0,1,1,0,0,1,1,0,0],\n",
    "                [1,0,0,0,0,0,0,0,0,0,0,1,1,0,0,0,0,1,0,0,0],\n",
    "                [0,0,0,0,0,0,0,0,1,1,0,0,1,1,0,0,1,1,0,0,0],\n",
    "                [0,0,0,0,0,0,1,0,0,1,0,1,0,0,0,0,0,1,1,0,0]]\n",
    "\n",
    "fig = plt.figure()\n",
    "ax = plt.subplot(1,1,1)\n",
    "\n",
    "for trial in range(len(tenSpikeTrains)):\n",
    "    spikeTimes = [i for i,x in enumerate(tenSpikeTrains[trial]) if x==1]\n",
    "    plt.vlines(spikeTimes,trial,trial+1)\n",
    "plt.axvspan(5,14,alpha=0.1,color='g')\n",
    "plt.xlim([0,20])\n",
    "plt.ylim([0,10])\n",
    "plt.title('this neuron spikes to repeated trials of the same stimulus')\n",
    "plt.xlabel('time in milliseconds')\n",
    "plt.ylabel('trial number')\n",
    "plt.yticks([x+0.5 for x in range(10)],[str(x+1) for x in range(10)])\n",
    "plt.show()\n"
   ]
  }
 ],
 "metadata": {
  "kernelspec": {
   "display_name": "Python 3",
   "language": "python",
   "name": "python3"
  },
  "language_info": {
   "codemirror_mode": {
    "name": "ipython",
    "version": 3
   },
   "file_extension": ".py",
   "mimetype": "text/x-python",
   "name": "python",
   "nbconvert_exporter": "python",
   "pygments_lexer": "ipython3",
   "version": "3.7.0"
  }
 },
 "nbformat": 4,
 "nbformat_minor": 2
}
